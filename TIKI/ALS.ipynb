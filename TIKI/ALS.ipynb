{
 "cells": [
  {
   "cell_type": "code",
   "execution_count": 1,
   "metadata": {},
   "outputs": [],
   "source": [
    "import pandas as pd\n",
    "from pyspark.sql import SparkSession\n",
    "from pyspark.ml.recommendation import ALS\n",
    "from pyspark.ml.evaluation import RegressionEvaluator\n",
    "from pyspark.ml.tuning import CrossValidator, ParamGridBuilder\n",
    "from pyspark.sql import functions as F"
   ]
  },
  {
   "cell_type": "code",
   "execution_count": 2,
   "metadata": {},
   "outputs": [],
   "source": [
    "# Khởi tạo Spark session\n",
    "spark = SparkSession.builder.appName('ALSExample').getOrCreate()"
   ]
  },
  {
   "cell_type": "code",
   "execution_count": 3,
   "metadata": {},
   "outputs": [],
   "source": [
    "# Đọc dữ liệu từ file CSV\n",
    "review_data = pd.read_csv(r\"C:\\Users\\anhn2\\Documents\\DJANGO\\DA\\TIKI\\comments_data.csv\")\n",
    "# Chuyển đổi pandas DataFrame thành Spark DataFrame\n",
    "df = spark.createDataFrame(review_data)\n",
    "# Chia dữ liệu thành train và test (80%-20%)\n",
    "train_data, test_data = df.randomSplit([0.8, 0.2], seed=42)"
   ]
  },
  {
   "cell_type": "code",
   "execution_count": 4,
   "metadata": {},
   "outputs": [],
   "source": [
    "# Khởi tạo mô hình ALS\n",
    "als = ALS(\n",
    "    userCol=\"user_id\", \n",
    "    itemCol=\"product_id\", \n",
    "    ratingCol=\"rating\", \n",
    "    nonnegative=True, \n",
    "    coldStartStrategy=\"drop\"\n",
    ")\n",
    "# Huấn luyện mô hình ALS\n",
    "model = als.fit(train_data)\n",
    "\n",
    "# Dự đoán trên tập test\n",
    "predictions = model.transform(test_data)"
   ]
  },
  {
   "cell_type": "code",
   "execution_count": 5,
   "metadata": {},
   "outputs": [
    {
     "name": "stdout",
     "output_type": "stream",
     "text": [
      "RMSE: 1.3545765709904707\n"
     ]
    }
   ],
   "source": [
    "# Đánh giá mô hình với RMSE\n",
    "evaluator = RegressionEvaluator(metricName=\"rmse\", labelCol=\"rating\", predictionCol=\"prediction\")\n",
    "rmse = evaluator.evaluate(predictions)\n",
    "print(f\"RMSE: {rmse}\")"
   ]
  },
  {
   "cell_type": "code",
   "execution_count": 6,
   "metadata": {},
   "outputs": [],
   "source": [
    "# Tuning tham số bằng CrossValidator và GridSearch\n",
    "param_grid = ParamGridBuilder() \\\n",
    "    .addGrid(als.rank, [10, 20, 50]) \\\n",
    "    .addGrid(als.maxIter, [10, 20]) \\\n",
    "    .addGrid(als.regParam, [0.01, 0.1]) \\\n",
    "    .build()"
   ]
  },
  {
   "cell_type": "code",
   "execution_count": 7,
   "metadata": {},
   "outputs": [],
   "source": [
    "# CrossValidator\n",
    "evaluator = RegressionEvaluator(\n",
    "    metricName=\"rmse\", \n",
    "    labelCol=\"rating\", \n",
    "    predictionCol=\"prediction\"\n",
    ")\n",
    "\n",
    "crossval = CrossValidator(\n",
    "    estimator=als,\n",
    "    estimatorParamMaps=param_grid,\n",
    "    evaluator=evaluator,\n",
    "    numFolds=5\n",
    ")\n",
    "\n",
    "# Fit mô hình với cross-validation\n",
    "cv_model = crossval.fit(train_data)"
   ]
  },
  {
   "cell_type": "code",
   "execution_count": 8,
   "metadata": {},
   "outputs": [
    {
     "data": {
      "text/html": [
       "<div>\n",
       "<style scoped>\n",
       "    .dataframe tbody tr th:only-of-type {\n",
       "        vertical-align: middle;\n",
       "    }\n",
       "\n",
       "    .dataframe tbody tr th {\n",
       "        vertical-align: top;\n",
       "    }\n",
       "\n",
       "    .dataframe thead th {\n",
       "        text-align: right;\n",
       "    }\n",
       "</style>\n",
       "<table border=\"1\" class=\"dataframe\">\n",
       "  <thead>\n",
       "    <tr style=\"text-align: right;\">\n",
       "      <th></th>\n",
       "      <th>rank</th>\n",
       "      <th>maxIter</th>\n",
       "      <th>regParam</th>\n",
       "      <th>RMSE</th>\n",
       "    </tr>\n",
       "  </thead>\n",
       "  <tbody>\n",
       "    <tr>\n",
       "      <th>0</th>\n",
       "      <td>10</td>\n",
       "      <td>10</td>\n",
       "      <td>0.01</td>\n",
       "      <td>2.270670</td>\n",
       "    </tr>\n",
       "    <tr>\n",
       "      <th>1</th>\n",
       "      <td>10</td>\n",
       "      <td>10</td>\n",
       "      <td>0.10</td>\n",
       "      <td>1.448130</td>\n",
       "    </tr>\n",
       "    <tr>\n",
       "      <th>2</th>\n",
       "      <td>10</td>\n",
       "      <td>20</td>\n",
       "      <td>0.01</td>\n",
       "      <td>1.871057</td>\n",
       "    </tr>\n",
       "    <tr>\n",
       "      <th>3</th>\n",
       "      <td>10</td>\n",
       "      <td>20</td>\n",
       "      <td>0.10</td>\n",
       "      <td>1.221431</td>\n",
       "    </tr>\n",
       "    <tr>\n",
       "      <th>4</th>\n",
       "      <td>20</td>\n",
       "      <td>10</td>\n",
       "      <td>0.01</td>\n",
       "      <td>1.824959</td>\n",
       "    </tr>\n",
       "    <tr>\n",
       "      <th>5</th>\n",
       "      <td>20</td>\n",
       "      <td>10</td>\n",
       "      <td>0.10</td>\n",
       "      <td>1.442916</td>\n",
       "    </tr>\n",
       "    <tr>\n",
       "      <th>6</th>\n",
       "      <td>20</td>\n",
       "      <td>20</td>\n",
       "      <td>0.01</td>\n",
       "      <td>1.600707</td>\n",
       "    </tr>\n",
       "    <tr>\n",
       "      <th>7</th>\n",
       "      <td>20</td>\n",
       "      <td>20</td>\n",
       "      <td>0.10</td>\n",
       "      <td>1.239311</td>\n",
       "    </tr>\n",
       "    <tr>\n",
       "      <th>8</th>\n",
       "      <td>50</td>\n",
       "      <td>10</td>\n",
       "      <td>0.01</td>\n",
       "      <td>1.532266</td>\n",
       "    </tr>\n",
       "    <tr>\n",
       "      <th>9</th>\n",
       "      <td>50</td>\n",
       "      <td>10</td>\n",
       "      <td>0.10</td>\n",
       "      <td>1.415782</td>\n",
       "    </tr>\n",
       "    <tr>\n",
       "      <th>10</th>\n",
       "      <td>50</td>\n",
       "      <td>20</td>\n",
       "      <td>0.01</td>\n",
       "      <td>1.389862</td>\n",
       "    </tr>\n",
       "    <tr>\n",
       "      <th>11</th>\n",
       "      <td>50</td>\n",
       "      <td>20</td>\n",
       "      <td>0.10</td>\n",
       "      <td>1.246016</td>\n",
       "    </tr>\n",
       "  </tbody>\n",
       "</table>\n",
       "</div>"
      ],
      "text/plain": [
       "    rank  maxIter  regParam      RMSE\n",
       "0     10       10      0.01  2.270670\n",
       "1     10       10      0.10  1.448130\n",
       "2     10       20      0.01  1.871057\n",
       "3     10       20      0.10  1.221431\n",
       "4     20       10      0.01  1.824959\n",
       "5     20       10      0.10  1.442916\n",
       "6     20       20      0.01  1.600707\n",
       "7     20       20      0.10  1.239311\n",
       "8     50       10      0.01  1.532266\n",
       "9     50       10      0.10  1.415782\n",
       "10    50       20      0.01  1.389862\n",
       "11    50       20      0.10  1.246016"
      ]
     },
     "execution_count": 8,
     "metadata": {},
     "output_type": "execute_result"
    }
   ],
   "source": [
    "# Lấy các kết quả của Cross-Validation và hiển thị\n",
    "results = pd.DataFrame(cv_model.avgMetrics, columns=[\"RMSE\"])\n",
    "param_combinations = []\n",
    "\n",
    "for params in cv_model.getEstimatorParamMaps():\n",
    "    param_dict = {param.name: params[param] for param in params}\n",
    "    param_combinations.append(param_dict)\n",
    "\n",
    "param_combinations_df = pd.DataFrame(param_combinations)\n",
    "\n",
    "# Kết hợp các tham số và kết quả RMSE\n",
    "final_results = pd.concat([param_combinations_df, results], axis=1)\n",
    "final_results"
   ]
  },
  {
   "cell_type": "code",
   "execution_count": 9,
   "metadata": {},
   "outputs": [
    {
     "name": "stdout",
     "output_type": "stream",
     "text": [
      "RMSE from CrossValidator: 1.1100242372643303\n"
     ]
    }
   ],
   "source": [
    "\n",
    "# Dự đoán với mô hình tốt nhất từ CrossValidator\n",
    "best_model = cv_model.bestModel\n",
    "cv_predictions = best_model.transform(test_data)\n",
    "\n",
    "# Đánh giá mô hình tốt nhất với RMSE\n",
    "cv_rmse = evaluator.evaluate(cv_predictions)\n",
    "print(f\"RMSE from CrossValidator: {cv_rmse}\")\n"
   ]
  },
  {
   "cell_type": "code",
   "execution_count": 10,
   "metadata": {},
   "outputs": [
    {
     "name": "stdout",
     "output_type": "stream",
     "text": [
      "Precision@10: 0.9756\n",
      "Recall@10: 0.7742\n",
      "F1-Score@10: 0.8633\n"
     ]
    }
   ],
   "source": [
    "from pyspark.sql import functions as F\n",
    "from pyspark.ml.recommendation import ALSModel\n",
    "\n",
    "def get_top_k_recommendations(predictions, k=10):\n",
    "    # Lấy Top-K sản phẩm gợi ý cho mỗi người dùng\n",
    "    top_k = predictions.groupBy(\"user_id\") \\\n",
    "        .agg(F.collect_list(\"product_id\").alias(\"product_ids\"),\n",
    "             F.collect_list(\"prediction\").alias(\"predictions\")) \\\n",
    "        .withColumn(\"top_k\", F.expr(\"slice(predictions, 1, {})\".format(k))) \\\n",
    "        .withColumn(\"top_k_ids\", F.expr(\"slice(product_ids, 1, {})\".format(k))) \\\n",
    "        .select(\"user_id\", \"top_k\", \"top_k_ids\")\n",
    "    \n",
    "    return top_k\n",
    "\n",
    "def precision_recall_at_k(predictions, test_data, k=10, threshold=3.5):\n",
    "    # Lấy Top-K gợi ý\n",
    "    top_k_recommendations = get_top_k_recommendations(predictions, k)\n",
    "    \n",
    "    # Join predictions với test_data để so sánh rating thực tế với prediction\n",
    "    correct_recommendations = top_k_recommendations.join(predictions, on=\"user_id\", how=\"left\")\n",
    "    \n",
    "    # Xử lý cột actual và predicted\n",
    "    correct_recommendations = correct_recommendations.withColumn(\n",
    "        \"actual\", F.when(correct_recommendations[\"rating\"] >= threshold, 1).otherwise(0)\n",
    "    )\n",
    "    \n",
    "    correct_recommendations = correct_recommendations.withColumn(\n",
    "        \"predicted\", F.when(correct_recommendations[\"prediction\"] >= threshold, 1).otherwise(0)\n",
    "    )\n",
    "    \n",
    "    # Tính Precision và Recall\n",
    "    tp = correct_recommendations.filter((correct_recommendations[\"actual\"] == 1) & (correct_recommendations[\"predicted\"] == 1)).count()\n",
    "    fp = correct_recommendations.filter((correct_recommendations[\"actual\"] == 0) & (correct_recommendations[\"predicted\"] == 1)).count()\n",
    "    fn = correct_recommendations.filter((correct_recommendations[\"actual\"] == 1) & (correct_recommendations[\"predicted\"] == 0)).count()\n",
    "    \n",
    "    precision = tp / (tp + fp) if tp + fp != 0 else 0\n",
    "    recall = tp / (tp + fn) if tp + fn != 0 else 0\n",
    "    f1_score = 2 * (precision * recall) / (precision + recall) if precision + recall != 0 else 0\n",
    "    \n",
    "    return precision, recall, f1_score\n",
    "\n",
    "# Tính toán Precision, Recall và F1-Score\n",
    "precision, recall, f1_score = precision_recall_at_k(predictions, test_data, k=10)\n",
    "\n",
    "# In kết quả\n",
    "print(f\"Precision@10: {precision:.4f}\")\n",
    "print(f\"Recall@10: {recall:.4f}\")\n",
    "print(f\"F1-Score@10: {f1_score:.4f}\")\n"
   ]
  },
  {
   "cell_type": "code",
   "execution_count": 12,
   "metadata": {},
   "outputs": [
    {
     "name": "stdout",
     "output_type": "stream",
     "text": [
      "Thời gian huấn luyện mô hình với tham số tốt nhất: 12.41 giây\n"
     ]
    }
   ],
   "source": [
    "import time\n",
    "\n",
    "# Lấy mô hình tốt nhất từ CrossValidator\n",
    "best_model_params = best_model.extractParamMap()\n",
    "\n",
    "# Khởi tạo lại ALS với các tham số tốt nhất\n",
    "als_best = ALS(\n",
    "    userCol=\"user_id\",\n",
    "    itemCol=\"product_id\",\n",
    "    ratingCol=\"rating\",\n",
    "    nonnegative=True,\n",
    "    coldStartStrategy=\"drop\",\n",
    "    rank=10,\n",
    "    maxIter=20,\n",
    "    regParam=0.1\n",
    ")\n",
    "\n",
    "# Đo thời gian bắt đầu\n",
    "training_start_time = time.time()\n",
    "\n",
    "# Huấn luyện lại mô hình với tham số tốt nhất\n",
    "final_model = als_best.fit(train_data)\n",
    "\n",
    "# Đo thời gian kết thúc\n",
    "training_end_time = time.time()\n",
    "\n",
    "# Tính thời gian huấn luyện\n",
    "training_time = training_end_time - training_start_time\n",
    "print(f\"Thời gian huấn luyện mô hình với tham số tốt nhất: {training_time:.2f} giây\")\n"
   ]
  }
 ],
 "metadata": {
  "kernelspec": {
   "display_name": ".venv",
   "language": "python",
   "name": "python3"
  },
  "language_info": {
   "codemirror_mode": {
    "name": "ipython",
    "version": 3
   },
   "file_extension": ".py",
   "mimetype": "text/x-python",
   "name": "python",
   "nbconvert_exporter": "python",
   "pygments_lexer": "ipython3",
   "version": "3.10.7"
  }
 },
 "nbformat": 4,
 "nbformat_minor": 2
}
